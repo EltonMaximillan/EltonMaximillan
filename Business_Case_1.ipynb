{
  "nbformat": 4,
  "nbformat_minor": 0,
  "metadata": {
    "colab": {
      "provenance": [],
      "authorship_tag": "ABX9TyNQdhcG8ABMLLpistpVD5fO",
      "include_colab_link": true
    },
    "kernelspec": {
      "name": "python3",
      "display_name": "Python 3"
    },
    "language_info": {
      "name": "python"
    }
  },
  "cells": [
    {
      "cell_type": "markdown",
      "metadata": {
        "id": "view-in-github",
        "colab_type": "text"
      },
      "source": [
        "<a href=\"https://colab.research.google.com/github/EltonMaximillan/EltonMaximillan/blob/main/Business_Case_1.ipynb\" target=\"_parent\"><img src=\"https://colab.research.google.com/assets/colab-badge.svg\" alt=\"Open In Colab\"/></a>"
      ]
    },
    {
      "cell_type": "markdown",
      "source": [
        "# Entrada de dados"
      ],
      "metadata": {
        "id": "7kZiaJTENRe5"
      }
    },
    {
      "cell_type": "code",
      "execution_count": null,
      "metadata": {
        "colab": {
          "base_uri": "https://localhost:8080/"
        },
        "id": "zodtyxHXM_A0",
        "outputId": "5f56d1d9-3d07-484e-8a63-fab1f59005b5"
      },
      "outputs": [
        {
          "name": "stdout",
          "output_type": "stream",
          "text": [
            "Digite o nome do aluno: José\n",
            "Digite a idade do aluno: 41\n",
            "Digite o peso do aluno (kg): 98\n",
            "Digite a altura do aluno (m): 1.81\n"
          ]
        }
      ],
      "source": [
        "nome = input(\"Digite o nome do aluno: \")\n",
        "idade = input(\"Digite a idade do aluno: \")\n",
        "peso = input(\"Digite o peso do aluno (kg): \")\n",
        "altura = input(\"Digite a altura do aluno (m): \")"
      ]
    },
    {
      "cell_type": "markdown",
      "source": [
        "# Calcular o IMC"
      ],
      "metadata": {
        "id": "8LcU9WXNPgPN"
      }
    },
    {
      "cell_type": "code",
      "source": [
        "imc = float(peso) / (float(altura) ** 2)"
      ],
      "metadata": {
        "id": "A1qqtPeuPPaG"
      },
      "execution_count": null,
      "outputs": []
    },
    {
      "cell_type": "code",
      "source": [
        "print(round(imc,2))"
      ],
      "metadata": {
        "colab": {
          "base_uri": "https://localhost:8080/"
        },
        "id": "S5J7Qc9RPU3W",
        "outputId": "0f29007a-3e1f-4697-ef6d-9fa6c8b43568"
      },
      "execution_count": null,
      "outputs": [
        {
          "output_type": "stream",
          "name": "stdout",
          "text": [
            "29.91\n"
          ]
        }
      ]
    },
    {
      "cell_type": "markdown",
      "source": [
        "# Criando Status"
      ],
      "metadata": {
        "id": "D0cx2M1ORLA0"
      }
    },
    {
      "cell_type": "code",
      "source": [
        "status = \"Dentro do peso\"\n",
        "if imc > 25:\n",
        "  status = \"Sobrepeso\""
      ],
      "metadata": {
        "id": "U8huAXYvQ_ld"
      },
      "execution_count": null,
      "outputs": []
    },
    {
      "cell_type": "code",
      "source": [
        "print(status)"
      ],
      "metadata": {
        "colab": {
          "base_uri": "https://localhost:8080/"
        },
        "id": "_dTwHnHkSAtu",
        "outputId": "c8e99a33-8509-46b9-aedc-6b2ae2d3ff95"
      },
      "execution_count": null,
      "outputs": [
        {
          "output_type": "stream",
          "name": "stdout",
          "text": [
            "Sobrepeso\n"
          ]
        }
      ]
    },
    {
      "cell_type": "markdown",
      "source": [
        "# Gerando o PDF"
      ],
      "metadata": {
        "id": "tXVT0KwMSQSb"
      }
    },
    {
      "cell_type": "code",
      "source": [
        "!pip install pdf_reports"
      ],
      "metadata": {
        "id": "4TVGokUlSHQ7"
      },
      "execution_count": null,
      "outputs": []
    },
    {
      "cell_type": "code",
      "source": [
        "import pdf_reports"
      ],
      "metadata": {
        "id": "O2T_G9SfSvzD"
      },
      "execution_count": null,
      "outputs": []
    },
    {
      "cell_type": "code",
      "source": [
        "dados_aluno = {\n",
        "\n",
        "    \"nome \": nome,\n",
        "    \"idade \": idade,\n",
        "    \"peso \": peso,\n",
        "    \"altura \": altura,\n",
        "    \"imc \": round(imc,2),\n",
        "    \"status\": status\n",
        "}"
      ],
      "metadata": {
        "id": "dEtRsnihWWpI"
      },
      "execution_count": null,
      "outputs": []
    },
    {
      "cell_type": "code",
      "source": [
        "template = pdf_reports.pug_to_html(\"template.pug\", dados=dados_aluno)"
      ],
      "metadata": {
        "id": "yxx4jd0uZHwV"
      },
      "execution_count": null,
      "outputs": []
    },
    {
      "cell_type": "code",
      "source": [
        "pdf_reports.write_report(template, \"Ficha_aluno.pdf\", use_default_styling=False)"
      ],
      "metadata": {
        "id": "SZLiObBdUkOZ"
      },
      "execution_count": null,
      "outputs": []
    },
    {
      "cell_type": "code",
      "source": [],
      "metadata": {
        "id": "CeikgRf6Zksj"
      },
      "execution_count": null,
      "outputs": []
    }
  ]
}